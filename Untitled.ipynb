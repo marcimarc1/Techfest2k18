{
 "cells": [
  {
   "cell_type": "code",
   "execution_count": 10,
   "metadata": {
    "collapsed": true
   },
   "outputs": [],
   "source": [
    "import itertools\n",
    "import numpy as np\n",
    "import pandas as pd\n",
    "import sklearn.mixture as mix\n",
    "import sklearn.linear_model as model\n",
    "from scipy import linalg\n",
    "import matplotlib.pyplot as plt\n",
    "import pickle\n",
    "import sklearn.mixture as mix\n",
    "#Reading in the data as Pandas df\n",
    "df_conti_ep = pd.read_csv('contiform_effectivepower.csv')\n",
    "df_filler_pf = pd.read_csv('filler_PerformanceFactor.csv')\n",
    "df_filler_t = pd.read_csv('filler_Temperature.csv')\n",
    "df_labeller_cs = pd.read_csv('labeller_CurrentSpeed.csv')\n",
    "df_labeller_ep = pd.read_csv('labeller_EffectivePower.csv')\n",
    "df_mixer_ep = pd.read_csv('mixer_EffectivePower.csv')\n",
    "df_mixer_wf = pd.read_csv('mixer_WaterFlow.csv')\n",
    "df_pet_cs = pd.read_csv('petview_CurrentSpeed.csv')"
   ]
  },
  {
   "cell_type": "code",
   "execution_count": 11,
   "metadata": {
    "collapsed": true
   },
   "outputs": [],
   "source": [
    "Y = [df_conti_ep['EffectivePower'].values[:], df_filler_pf['PerformanceFactor'].values[:], df_filler_t['Temperature'].values[:],\n",
    "             df_labeller_cs['CurrentSpeed'].values[:],df_labeller_ep['EffectivePower'].values[:],\n",
    "             df_mixer_ep['EffectivePower'].values[:], df_mixer_wf['WaterFlow'].values[:], df_pet_cs['CurrentSpeed'].values[:] ]\n",
    "\n",
    "models = []\n",
    "\n",
    "# for Data in Y:\n",
    "#     Reg = model.LinearRegression()\n",
    "#     y=np.array(range(len(Data)))\n",
    "#     models.append(Reg.fit(y.reshape(-1,1),Data.reshape(-1,1)))\n",
    "\n",
    "\n"
   ]
  },
  {
   "cell_type": "code",
   "execution_count": 12,
   "metadata": {
    "collapsed": true
   },
   "outputs": [],
   "source": [
    "cluster_data =[]\n",
    "for model in models:\n",
    "    cluster_data.append(model.predict(y.reshape(-1,1)))\n",
    "\n",
    "cluster_data = np.array(cluster_data)\n"
   ]
  },
  {
   "cell_type": "code",
   "execution_count": 13,
   "metadata": {},
   "outputs": [
    {
     "ename": "IndexError",
     "evalue": "index 2 is out of bounds for axis 0 with size 0",
     "output_type": "error",
     "traceback": [
      "\u001b[0;31m---------------------------------------------------------------------------\u001b[0m",
      "\u001b[0;31mIndexError\u001b[0m                                Traceback (most recent call last)",
      "\u001b[0;32m<ipython-input-13-ae234790ab82>\u001b[0m in \u001b[0;36m<module>\u001b[0;34m()\u001b[0m\n\u001b[0;32m----> 1\u001b[0;31m \u001b[0mplt\u001b[0m\u001b[0;34m.\u001b[0m\u001b[0mplot\u001b[0m\u001b[0;34m(\u001b[0m\u001b[0my\u001b[0m\u001b[0;34m,\u001b[0m\u001b[0mcluster_data\u001b[0m\u001b[0;34m[\u001b[0m\u001b[0;36m2\u001b[0m\u001b[0;34m]\u001b[0m\u001b[0;34m)\u001b[0m\u001b[0;34m\u001b[0m\u001b[0m\n\u001b[0m\u001b[1;32m      2\u001b[0m \u001b[0mplt\u001b[0m\u001b[0;34m.\u001b[0m\u001b[0mshow\u001b[0m\u001b[0;34m(\u001b[0m\u001b[0;34m)\u001b[0m\u001b[0;34m\u001b[0m\u001b[0m\n",
      "\u001b[0;31mIndexError\u001b[0m: index 2 is out of bounds for axis 0 with size 0"
     ]
    }
   ],
   "source": [
    "plt.plot(y,cluster_data[2])\n",
    "plt.show()\n"
   ]
  },
  {
   "cell_type": "code",
   "execution_count": 14,
   "metadata": {
    "collapsed": true
   },
   "outputs": [],
   "source": [
    "from sklearn.neural_network import MLPRegressor\n"
   ]
  },
  {
   "cell_type": "code",
   "execution_count": 15,
   "metadata": {},
   "outputs": [
    {
     "name": "stderr",
     "output_type": "stream",
     "text": [
      "/home/marc/anaconda3/lib/python3.6/site-packages/sklearn/neural_network/multilayer_perceptron.py:1306: DataConversionWarning: A column-vector y was passed when a 1d array was expected. Please change the shape of y to (n_samples, ), for example using ravel().\n",
      "  y = column_or_1d(y, warn=True)\n"
     ]
    },
    {
     "name": "stdout",
     "output_type": "stream",
     "text": [
      "0.0003290445056759461\n",
      "0.0003113336236557629\n",
      "-0.027626656814351502\n"
     ]
    },
    {
     "name": "stderr",
     "output_type": "stream",
     "text": [
      "/home/marc/anaconda3/lib/python3.6/site-packages/sklearn/neural_network/multilayer_perceptron.py:564: ConvergenceWarning: Stochastic Optimizer: Maximum iterations (200) reached and the optimization hasn't converged yet.\n",
      "  % self.max_iter, ConvergenceWarning)\n"
     ]
    },
    {
     "name": "stdout",
     "output_type": "stream",
     "text": [
      "-3.6257240070217414\n",
      "-1.85980576570266e-05\n",
      "-3.3763422777610685e-06\n",
      "-1.4818375179625947\n",
      "-2.8678836154261265\n"
     ]
    }
   ],
   "source": [
    "MLPS =[]\n",
    "for Data in Y:\n",
    "    MLP = MLPRegressor(hidden_layer_sizes=(100),activation='tanh',\n",
    "                       learning_rate='invscaling')\n",
    "    y=np.array(range(len(Data)))\n",
    "    MLPS.append(MLP.fit(y.reshape(-1,1),Data.reshape(-1,1)))\n",
    "    print(MLPS[-1].score(y.reshape(-1,1),Data.reshape(-1,1)))"
   ]
  },
  {
   "cell_type": "code",
   "execution_count": 16,
   "metadata": {},
   "outputs": [
    {
     "data": {
      "image/png": "[encoded data removed]",
      "text/plain": [
       "<matplotlib.figure.Figure at 0x7f464248ac50>"
      ]
     },
     "metadata": {},
     "output_type": "display_data"
    },
    {
     "data": {
      "image/png": "[encoded data removed]",
      "text/plain": [
       "<matplotlib.figure.Figure at 0x7f4645081a20>"
      ]
     },
     "metadata": {},
     "output_type": "display_data"
    },
    {
     "data": {
      "image/png": "[encoded data removed]",
      "text/plain": [
       "<matplotlib.figure.Figure at 0x7f464249aef0>"
      ]
     },
     "metadata": {},
     "output_type": "display_data"
    },
    {
     "data": {
      "image/png": "[encoded data removed]",
      "text/plain": [
       "<matplotlib.figure.Figure at 0x7f464250f4e0>"
      ]
     },
     "metadata": {},
     "output_type": "display_data"
    },
    {
     "data": {
      "image/png": "[encoded data removed]",
      "text/plain": [
       "<matplotlib.figure.Figure at 0x7f46437110f0>"
      ]
     },
     "metadata": {},
     "output_type": "display_data"
    },
    {
     "data": {
      "image/png": "[encoded data removed]",
      "text/plain": [
       "<matplotlib.figure.Figure at 0x7f4644f47160>"
      ]
     },
     "metadata": {},
     "output_type": "display_data"
    },
    {
     "data": {
      "image/png": "[encoded data removed]",
      "text/plain": [
       "<matplotlib.figure.Figure at 0x7f464500d7f0>"
      ]
     },
     "metadata": {},
     "output_type": "display_data"
    },
    {
     "data": {
      "image/png": "[encoded data removed]",
      "text/plain": [
       "<matplotlib.figure.Figure at 0x7f4645050f60>"
      ]
     },
     "metadata": {},
     "output_type": "display_data"
    }
   ],
   "source": [
    "cluster_data =[]\n",
    "for (model,Data) in zip(MLPS,Y):\n",
    "    y=np.array(range(len(Data)))\n",
    "    cluster_data.append(model.predict(y.reshape(-1,1)))\n",
    "    plt.plot(y,cluster_data[-1])\n",
    "    plt.show()\n",
    "\n",
    "cluster_data = np.array(cluster_data)"
   ]
  },
  {
   "cell_type": "code",
   "execution_count": 18,
   "metadata": {},
   "outputs": [
    {
     "data": {
      "image/png": "[encoded data removed]",
      "text/plain": [
       "<matplotlib.figure.Figure at 0x7f4644251518>"
      ]
     },
     "metadata": {},
     "output_type": "display_data"
    }
   ],
   "source": [
    "# plt.plot(y,cluster_data[0])\n",
    "#plt.plot(y,cluster_data[1])\n",
    "#plt.plot(y,cluster_data[2])\n",
    "# plt.plot(y,cluster_data[3])\n",
    "# plt.plot(y,cluster_data[4])\n",
    "plt.plot(y,cluster_data[-1])\n",
    "plt.show()\n",
    "filename = 'regmodel.sav'\n",
    "pickle.dump(MLPS, open(filename, 'wb'))"
   ]
  },
  {
   "cell_type": "code",
   "execution_count": 17,
   "metadata": {},
   "outputs": [
    {
     "name": "stdout",
     "output_type": "stream",
     "text": [
      "-0.6954174451430236\n"
     ]
    }
   ],
   "source": [
    "print(MLPS[-1].score(y.reshape(-1,1),Data.reshape(-1,1)))"
   ]
  },
  {
   "cell_type": "code",
   "execution_count": null,
   "metadata": {
    "collapsed": true
   },
   "outputs": [],
   "source": []
  }
 ],
 "metadata": {
  "kernelspec": {
   "display_name": "Python 3",
   "language": "python",
   "name": "python3"
  },
  "language_info": {
   "codemirror_mode": {
    "name": "ipython",
    "version": 3
   },
   "file_extension": ".py",
   "mimetype": "text/x-python",
   "name": "python",
   "nbconvert_exporter": "python",
   "pygments_lexer": "ipython3",
   "version": "3.6.2"
  }
 },
 "nbformat": 4,
 "nbformat_minor": 2
}
